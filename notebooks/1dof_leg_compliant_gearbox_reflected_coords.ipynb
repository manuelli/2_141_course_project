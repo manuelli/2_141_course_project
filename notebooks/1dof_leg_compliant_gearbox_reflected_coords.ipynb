{
 "cells": [
  {
   "cell_type": "code",
   "execution_count": 11,
   "metadata": {},
   "outputs": [],
   "source": [
    "import scipy\n",
    "import scipy.signal\n",
    "import numpy as np\n",
    "import matplotlib.pyplot as plt\n",
    "import os\n",
    "import sys\n",
    "\n",
    "src_dir = os.path.join(os.getcwd(), \"../src\")\n",
    "sys.path.append(src_dir)\n",
    "from course_project.dynamics import *\n",
    "save_dir = \"/home/manuelli/Dropbox (MIT)/Robotics Shared/Robotics/Courses/2.141 System Modelling/term_project\""
   ]
  },
  {
   "cell_type": "markdown",
   "metadata": {},
   "source": [
    "## Linear Systems Analysis using Bode Plot\n",
    "Frequency domain analysis"
   ]
  },
  {
   "cell_type": "code",
   "execution_count": 14,
   "metadata": {},
   "outputs": [
    {
     "data": {
      "image/png": "[encoded data removed]",
      "text/plain": [
       "<Figure size 432x288 with 1 Axes>"
      ]
     },
     "metadata": {
      "needs_background": "light"
     },
     "output_type": "display_data"
    },
    {
     "data": {
      "image/png": "[encoded data removed]",
      "text/plain": [
       "<Figure size 432x288 with 1 Axes>"
      ]
     },
     "metadata": {
      "needs_background": "light"
     },
     "output_type": "display_data"
    },
    {
     "name": "stdout",
     "output_type": "stream",
     "text": [
      "1390.16426513\n",
      "0.039125858\n",
      "7.8251716\n",
      "{'b': 7.825171600000001, 'k_s': 1390.16426512751, 'J': 0.039125858, 'T': 0.11304544426859597, 'T_2': 0.11304544426859597, 'T_1': 0.13054830287206265}\n"
     ]
    }
   ],
   "source": [
    "# make bode plot\n",
    "# input is \"torque desired, i.e. tau = G/T * i\", current that you would need to get\n",
    "# a specific torque out, G is the torque motor constant, T is transformer modulus\n",
    "\n",
    "default_params = make_default_params()\n",
    "system = linear_system_tf_from_params(default_params)\n",
    "\n",
    "f = np.logspace(0,5)\n",
    "w = 2 * np.pi * f\n",
    "w, mag, phase = scipy.signal.bode(system, w)\n",
    "\n",
    "plt.semilogx(f, mag)\n",
    "plt.title(\"magnitude\")\n",
    "plt.xlabel(\"hz\")\n",
    "plt.savefig(os.path.join(save_dir,\"images/bode_magnitude.pdf\"))\n",
    "plt.show()\n",
    "\n",
    "plt.semilogx(f, phase)\n",
    "plt.title(\"phase\")\n",
    "plt.xlabel(\"hz\")\n",
    "plt.savefig(os.path.join(save_dir,\"images/bode_phase.pdf\"))\n",
    "plt.show()\n",
    "\n",
    "params = default_params\n",
    "print params['k_s']\n",
    "print params['J']\n",
    "print params['b']\n",
    "\n",
    "print default_params"
   ]
  },
  {
   "cell_type": "markdown",
   "metadata": {},
   "source": [
    "## Implement Impedance controller\n",
    "Controller is of the form $F =  k_p (x - x_0) + k_d \\dot{x}$. Think of $x_0 = 0$ as being nominal\n",
    "resting length of the leg"
   ]
  },
  {
   "cell_type": "markdown",
   "metadata": {},
   "source": [
    "## Experiment 1: Impedance Controller"
   ]
  },
  {
   "cell_type": "code",
   "execution_count": null,
   "metadata": {},
   "outputs": [],
   "source": [
    "controller_params = dict()\n",
    "controller_params['k_p'] = 1000\n",
    "damping_ratio = 0.0\n",
    "controller_params['k_d'] = 2 * damping_ratio * np.sqrt(controller_params['k_p'])\n",
    "\n",
    "\n",
    "k_p = controller_params['k_p']\n",
    "\n",
    "params = make_default_params()\n",
    "# params['k_s'] = 30\n",
    "# params['k_s'] = 100\n",
    "\n",
    "print \"J\", params['J']\n",
    "# params['J'] = params['J']/10.0\n",
    "\n",
    "# print params['k_s']\n",
    "# params['k_s'] = 10000 # increase stiffness by factor of 10, markedly improves the tracking\n",
    "sys, [A,B,C,D] = impedance_ss_system(params, controller_params)\n",
    "\n",
    "# simulate\n",
    "freq_hz = 2\n",
    "dt = 0.01/freq_hz\n",
    "t_vec = np.arange(0,2.0/freq_hz, dt)\n",
    "omega_vec = 2 * t_vec * np.pi * freq_hz\n",
    "amplitude = 0.1  \n",
    "x_b = amplitude/2.0 * (1 - np.cos(omega_vec))\n",
    "x_b_dot = amplitude/2.0 * np.sin(omega_vec)\n",
    "\n",
    "force_desired = controller_params['k_p']*x_b + controller_params['k_d'] * x_b_dot\n",
    "\n",
    "# plot the body position (externally specified)\n",
    "plt.plot(t_vec, x_b)\n",
    "plt.xlabel('time')\n",
    "plt.ylabel('x_b')\n",
    "plt.show()\n",
    "\n",
    "# plt.plot(t_vec, force_desired, 'b')\n",
    "# plt.title(\"force\")\n",
    "# plt.xlabel('time')\n",
    "# plt.show()\n",
    "\n",
    "\n",
    "\n",
    "# simulate the system\n",
    "t_out, yout, xout = scipy.signal.lsim(sys, x_b, t_vec)\n",
    "\n",
    "C = -np.array([controller_params['k_p'], controller_params['k_d']])\n",
    "C = C.reshape([2,1])\n",
    "\n",
    "force_est = np.dot(xout, C)\n",
    "\n",
    "\n",
    "# plot of measured vs sensed position\n",
    "\n",
    "plt.plot(t_vec, x_b, 'b', label='measured position')\n",
    "plt.plot(t_vec, -xout[:, 0], 'r', label='estimated position')\n",
    "plt.title(\"Foot position\")\n",
    "plt.show()\n",
    "\n",
    "force_error_from_encoder = (x_b + xout[:, 0])*k_p\n",
    "plt.plot(t_vec, force_error_from_encoder, 'b')\n",
    "plt.title('Force Error')\n",
    "plt.show()\n",
    "\n",
    "# Force Plots\n",
    "plt.plot(t_vec, force_desired, 'b', label='desired force')\n",
    "plt.title(\"force\")\n",
    "plt.xlabel('time')\n",
    "plt.plot(t_out, yout, 'r', label='measured force')\n",
    "plt.plot(t_out, force_est, 'g', label='estimated force')\n",
    "plt.legend()\n",
    "plt.show()\n",
    "\n",
    "\n",
    "# Estimated and measured forces\n",
    "plt.title(\"force\")\n",
    "plt.xlabel('time')\n",
    "plt.plot(t_out, yout, 'r', label='measured force')\n",
    "plt.plot(t_out, force_est, 'g', label='estimated force')\n",
    "plt.legend()\n",
    "plt.show()\n",
    "\n",
    "# Problem is estimated foot position, not torque tracking\n"
   ]
  },
  {
   "cell_type": "markdown",
   "metadata": {},
   "source": [
    "## Simulate the response to a step input\n",
    "\n",
    "Damping turns out to be very important to ensure that the system doesn't oscillate endlessly"
   ]
  },
  {
   "cell_type": "code",
   "execution_count": null,
   "metadata": {},
   "outputs": [],
   "source": [
    "#\n",
    "output_torque = 100.0\n",
    "T_vec = np.linspace(0,0.2,100)\n",
    "N = T_vec.size\n",
    "params = make_default_params()\n",
    "sys = linear_system_tf_from_params(params)\n",
    "T_vec, yout = scipy.signal.step(sys, T=T_vec)\n",
    "plt.plot(T_vec, yout)\n",
    "plt.show()\n",
    "\n",
    "\n",
    "\n",
    "# make sure we can replicate the result using State Space form\n",
    "sys_ss, _ = linear_system_ss_from_params(params)\n",
    "U = np.zeros([N, 2])\n",
    "U[:, 0] = 1\n",
    "T_vec, yout, xout = scipy.signal.lsim(sys_ss, U, T_vec)\n",
    "plt.plot(T_vec, yout)\n"
   ]
  },
  {
   "cell_type": "markdown",
   "metadata": {},
   "source": [
    "## Backdrivability"
   ]
  },
  {
   "cell_type": "code",
   "execution_count": null,
   "metadata": {},
   "outputs": [],
   "source": [
    "# simulate zero force input with standard system\n",
    "# make sure we can replicate the result using State Space form\n",
    "params = make_default_params()\n",
    "# params['J'] = params['J']/10.0\n",
    "print params\n",
    "# params['b'] = params['b']/ 10.0\n",
    "sys_ss, _ = linear_system_ss_from_params(params)\n",
    "T_vec = np.linspace(0,1,100)\n",
    "t_adjust = 0.1\n",
    "amplitude = 0.1\n",
    "U = amplitude * np.ones([N, 2])\n",
    "U[T_vec < t_adjust, 1] = T_vec[T_vec < t_adjust] * amplitude/t_adjust\n",
    "N = T_vec.size\n",
    "\n",
    "\n",
    "plt.plot(T_vec, U[:,1])\n",
    "plt.show()\n",
    "\n",
    "\n",
    "T_vec, yout, xout = scipy.signal.lsim(sys_ss, U, T_vec)\n",
    "\n",
    "plt.plot(T_vec, yout)\n",
    "plt.xlabel(\"force\")\n",
    "plt.show()\n",
    "\n",
    "plt.plot(T_vec, U[:,1])\n",
    "plt.title('x_b')\n",
    "plt.show()\n",
    "\n",
    "plt.plot(T_vec, xout[:,0])\n",
    "plt.title(\"theta\")\n",
    "print xout.shape\n"
   ]
  },
  {
   "cell_type": "markdown",
   "metadata": {},
   "source": [
    "## Simulate using ODE45 instead of linear systems toolbox\n",
    "\n",
    "This will be needed for doing the non-linear version of things"
   ]
  },
  {
   "cell_type": "code",
   "execution_count": null,
   "metadata": {},
   "outputs": [],
   "source": [
    "\n",
    "\n",
    "\n",
    "\n",
    "\n",
    "\n",
    "\n",
    "\n",
    "\n",
    "\n",
    "\n",
    "\n",
    "\n",
    "\n",
    "\n",
    "\n",
    "\n",
    "\n",
    "\n",
    "\n",
    "\n",
    "\n",
    "\n",
    "\n",
    "\n",
    "\n",
    "\n",
    "\n",
    "\n",
    "\n",
    "\n",
    "\n",
    "\n",
    "\n",
    "\n",
    "\n",
    "\n",
    "\n",
    "\n",
    "\n"
   ]
  }
 ],
 "metadata": {
  "kernelspec": {
   "display_name": "Python 2",
   "language": "python",
   "name": "python2"
  },
  "language_info": {
   "codemirror_mode": {
    "name": "ipython",
    "version": 2
   },
   "file_extension": ".py",
   "mimetype": "text/x-python",
   "name": "python",
   "nbconvert_exporter": "python",
   "pygments_lexer": "ipython2",
   "version": "2.7.12"
  }
 },
 "nbformat": 4,
 "nbformat_minor": 2
}
