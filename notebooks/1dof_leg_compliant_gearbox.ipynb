{
 "cells": [
  {
   "cell_type": "code",
   "execution_count": null,
   "metadata": {},
   "outputs": [],
   "source": [
    "import scipy\n",
    "import scipy.signal\n",
    "import numpy as np\n",
    "import matplotlib.pyplot as plt"
   ]
  },
  {
   "cell_type": "code",
   "execution_count": null,
   "metadata": {},
   "outputs": [],
   "source": [
    "J = 0.0005 # kg*m^2, rotor inertia\n",
    "T_1 = 1/7.66 # gear ratio of link 1\n",
    "T_2 = 1/8.846 # gear ratio link 2\n",
    "b = 0.1\n",
    "\n",
    "T = T_2\n",
    "\n",
    "# rotor vibrates at this frequency when hit\n",
    "# equivalent to a spring\n",
    "omega_resonant_hz = 30.0\n",
    "omega_resonant_rad_s = 2 * np.pi * 30.0\n",
    "gearbox_stiffness_before_reduction = omega_resonant_rad_s**2 * J\n",
    "\n",
    "k_s = gearbox_stiffness_before_reduction\n",
    "\n",
    "print gearbox_stiffness_before_reduction\n",
    "chain_stiffness = gearbox_stiffness_before_reduction * (1/T_2)**2\n",
    "print chain_stiffness"
   ]
  },
  {
   "cell_type": "markdown",
   "metadata": {},
   "source": [
    "## Linear Systems Analysis using Bode Plot\n",
    "Frequency domain analysis"
   ]
  },
  {
   "cell_type": "code",
   "execution_count": null,
   "metadata": {},
   "outputs": [],
   "source": [
    "# make bode plot\n",
    "# input is \"torque desired, i.e. tau = G/T * i\", current that you would need to get\n",
    "# a specific torque out, G is the torque motor constant\n",
    "system = scipy.signal.lti(np.array([k_s]), [J, b, k_s])\n",
    "f = np.logspace(0,5)\n",
    "w = 2 * np.pi * f\n",
    "w, mag, phase = scipy.signal.bode(system, w)\n",
    "\n",
    "plt.semilogx(f, mag)\n",
    "plt.show()\n",
    "\n",
    "plt.semilogx(f, phase)\n",
    "plt.show()"
   ]
  },
  {
   "cell_type": "markdown",
   "metadata": {},
   "source": [
    "## Time Domain System setup\n",
    "Setup the system in the time domain. State variables $[\\theta, \\dot{\\theta}]$. Control variables are\n",
    "$u = [\\tau, x_b]$ where $\\tau = \\frac{G}{T} i$, i.e. we think of commading desired output torque."
   ]
  },
  {
   "cell_type": "code",
   "execution_count": null,
   "metadata": {},
   "outputs": [],
   "source": [
    "A = np.array([[0, 1], [-k_s/J, -b/J]])\n",
    "B = np.array([[0,0], [T/J, -k_s/(T*J)]])\n",
    "C = np.array([k_s/T, 0])\n",
    "D = np.array([0, k_s/T])\n",
    "\n",
    "\n",
    "\n",
    "# single dimensional input\n",
    "if True:\n",
    "    B = np.array([[0], [T/J]])\n",
    "    D = 0\n",
    "    \n",
    "print \"A\\n\", A\n",
    "print \"B\\n\", B\n",
    "print \"C\\n\", C\n",
    "print \"D\\n\", D\n",
    "\n",
    "\n",
    "sys_2 = scipy.signal.lti(A, B, C, D)\n",
    "sys_2_tf = sys_2.to_tf()\n",
    "print sys_2_tf\n",
    "\n",
    "tf = scipy.signal.TransferFunction(sys_2)\n",
    "\n",
    "# make bode plot\n",
    "w, mag, phase = scipy.signal.bode(sys_2, w)\n",
    "\n",
    "plt.semilogx(f, mag)\n",
    "plt.show()\n",
    "\n",
    "plt.semilogx(f, phase)\n",
    "plt.show()"
   ]
  },
  {
   "cell_type": "markdown",
   "metadata": {},
   "source": [
    "## Simulate the response to a step input\n",
    "\n",
    "Damping turns out to be very important to ensure that the system doesn't oscillate endlessly"
   ]
  },
  {
   "cell_type": "code",
   "execution_count": null,
   "metadata": {},
   "outputs": [],
   "source": [
    "output_torque = 100.0\n",
    "T_vec = np.linspace(0,0.2,100)\n",
    "T_vec, yout = scipy.signal.step(system, T=T_vec)\n",
    "plt.plot(T_vec, yout)"
   ]
  },
  {
   "cell_type": "code",
   "execution_count": null,
   "metadata": {},
   "outputs": [],
   "source": []
  }
 ],
 "metadata": {
  "kernelspec": {
   "display_name": "Python 2",
   "language": "python",
   "name": "python2"
  },
  "language_info": {
   "codemirror_mode": {
    "name": "ipython",
    "version": 2
   },
   "file_extension": ".py",
   "mimetype": "text/x-python",
   "name": "python",
   "nbconvert_exporter": "python",
   "pygments_lexer": "ipython2",
   "version": "2.7.12"
  }
 },
 "nbformat": 4,
 "nbformat_minor": 2
}
