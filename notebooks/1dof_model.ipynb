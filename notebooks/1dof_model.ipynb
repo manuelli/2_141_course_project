{
 "cells": [
  {
   "cell_type": "code",
   "execution_count": null,
   "metadata": {},
   "outputs": [],
   "source": [
    "import scipy\n",
    "import scipy.signal\n",
    "import numpy as np\n",
    "import matplotlib.pyplot as plt"
   ]
  },
  {
   "cell_type": "markdown",
   "metadata": {},
   "source": [
    "## Bode Plot\n",
    "\n",
    "The transfer function from ground position $x_g$ to force exerted at the ground is\n",
    "\n",
    "$$\n",
    "G(s) = -k \\left( \\frac{s^2I + k_p}{s^2I + k}  \\right)\n",
    "$$"
   ]
  },
  {
   "cell_type": "code",
   "execution_count": null,
   "metadata": {},
   "outputs": [],
   "source": [
    "k = 1e6\n",
    "k_p = 1e5\n",
    "I = 3.01\n",
    "I = 0.1\n",
    "\n",
    "def G(s):\n",
    "    return -k*(s**2*I + k_p)/(s**2 * I + k)\n",
    "\n",
    "system = scipy.signal.lti(k/k_p *np.array([I, 0, k_p]), [I, 0, k])\n",
    "f = np.logspace(0,5)\n",
    "w = 2 * np.pi * f\n",
    "w, mag, phase = scipy.signal.bode(system, w)\n",
    "\n",
    "plt.semilogx(f, mag)\n",
    "plt.show()\n",
    "\n",
    "plt.semilogx(f, phase)\n",
    "plt.show()\n",
    "\n",
    "plt.semilogx(f, G(w))\n",
    "plt.show()"
   ]
  },
  {
   "cell_type": "code",
   "execution_count": null,
   "metadata": {},
   "outputs": [],
   "source": []
  }
 ],
 "metadata": {
  "kernelspec": {
   "display_name": "Python 2",
   "language": "python",
   "name": "python2"
  },
  "language_info": {
   "codemirror_mode": {
    "name": "ipython",
    "version": 2
   },
   "file_extension": ".py",
   "mimetype": "text/x-python",
   "name": "python",
   "nbconvert_exporter": "python",
   "pygments_lexer": "ipython2",
   "version": "2.7.12"
  }
 },
 "nbformat": 4,
 "nbformat_minor": 2
}
